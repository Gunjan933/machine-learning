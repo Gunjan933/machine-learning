{
 "cells": [
  {
   "cell_type": "code",
   "execution_count": 53,
   "metadata": {},
   "outputs": [],
   "source": [
    "import numpy as np\n",
    "import pandas as pd\n",
    "from sklearn.base import BaseEstimator, TransformerMixin"
   ]
  },
  {
   "cell_type": "code",
   "execution_count": 54,
   "metadata": {},
   "outputs": [],
   "source": [
    "class BGDRegressor(BaseEstimator, TransformerMixin):\n",
    "    def __init__(self, eta0=0.1, max_iter=10):\n",
    "        self.eta0 = eta0\n",
    "        self.max_iter = max_iter\n",
    "    def fit(self,X,y):\n",
    "        m,n = X.shape\n",
    "        if y.ndim == 1:\n",
    "            y = y.reshape(-1,1)\n",
    "        X_b = np.c_[np.ones((m,1)), X]\n",
    "        self.theta_hat = np.random.randn(n+1, 1)\n",
    "        for i in range(self.max_iter):\n",
    "            delta_mse = (2/m)* X_b.T.dot(X_b.dot(self.theta_hat) - y)\n",
    "            self.theta_hat -= self.eta0 * delta_mse\n",
    "        self.intercept_ = self.theta_hat[0]\n",
    "        self.coef_ = self.theta_hat[1:]\n",
    "        return self\n",
    "    def predict(self, X ,y=None):\n",
    "        m,n = X.shape\n",
    "        X_b = np.c_[np.ones((m,1)), X]\n",
    "        return X_b.dot(self.theta_hat)"
   ]
  },
  {
   "cell_type": "code",
   "execution_count": 55,
   "metadata": {},
   "outputs": [],
   "source": [
    "from sklearn.datasets import fetch_california_housing\n",
    "housing = fetch_california_housing()"
   ]
  },
  {
   "cell_type": "code",
   "execution_count": 56,
   "metadata": {},
   "outputs": [],
   "source": [
    "from sklearn.preprocessing import StandardScaler\n",
    "scaler = StandardScaler()\n",
    "housing_scaled = scaler.fit_transform(housing.data)"
   ]
  },
  {
   "cell_type": "code",
   "execution_count": 57,
   "metadata": {},
   "outputs": [],
   "source": [
    "bgd_reg = BGDRegressor(max_iter=100)"
   ]
  },
  {
   "cell_type": "code",
   "execution_count": 58,
   "metadata": {
    "scrolled": true
   },
   "outputs": [
    {
     "data": {
      "text/plain": [
       "BGDRegressor(eta0=0.1, max_iter=100)"
      ]
     },
     "execution_count": 58,
     "metadata": {},
     "output_type": "execute_result"
    }
   ],
   "source": [
    "bgd_reg.fit(housing_scaled,housing.target)"
   ]
  },
  {
   "cell_type": "code",
   "execution_count": 59,
   "metadata": {},
   "outputs": [
    {
     "data": {
      "text/plain": [
       "array([2.06855817])"
      ]
     },
     "execution_count": 59,
     "metadata": {},
     "output_type": "execute_result"
    }
   ],
   "source": [
    "bgd_reg.intercept_"
   ]
  },
  {
   "cell_type": "code",
   "execution_count": 60,
   "metadata": {},
   "outputs": [
    {
     "data": {
      "text/plain": [
       "array([[ 0.75026179],\n",
       "       [ 0.12366383],\n",
       "       [-0.07857644],\n",
       "       [ 0.13482533],\n",
       "       [-0.00168595],\n",
       "       [-0.03804974],\n",
       "       [-0.93859727],\n",
       "       [-0.89822559]])"
      ]
     },
     "execution_count": 60,
     "metadata": {},
     "output_type": "execute_result"
    }
   ],
   "source": [
    "bgd_reg.coef_"
   ]
  }
 ],
 "metadata": {
  "kernelspec": {
   "display_name": "Python 3",
   "language": "python",
   "name": "python3"
  },
  "language_info": {
   "codemirror_mode": {
    "name": "ipython",
    "version": 3
   },
   "file_extension": ".py",
   "mimetype": "text/x-python",
   "name": "python",
   "nbconvert_exporter": "python",
   "pygments_lexer": "ipython3",
   "version": "3.7.3"
  }
 },
 "nbformat": 4,
 "nbformat_minor": 2
}
