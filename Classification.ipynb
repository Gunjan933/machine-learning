{
 "cells": [
  {
   "cell_type": "code",
   "execution_count": 0,
   "metadata": {
    "colab": {},
    "colab_type": "code",
    "id": "0rfgvyReQM40"
   },
   "outputs": [],
   "source": [
    "import numpy as np\n",
    "import pandas as pd\n",
    "import matplotlib.pyplot as plt\n",
    "%matplotlib inline"
   ]
  },
  {
   "cell_type": "code",
   "execution_count": 0,
   "metadata": {
    "colab": {},
    "colab_type": "code",
    "id": "2UGFeS2BStXF"
   },
   "outputs": [],
   "source": [
    "from sklearn.datasets import fetch_openml"
   ]
  },
  {
   "cell_type": "code",
   "execution_count": 0,
   "metadata": {
    "colab": {},
    "colab_type": "code",
    "id": "vYDg8hy8SyHM"
   },
   "outputs": [],
   "source": [
    "mnist = fetch_openml('mnist_784', version=1)"
   ]
  },
  {
   "cell_type": "code",
   "execution_count": 4,
   "metadata": {
    "colab": {
     "base_uri": "https://localhost:8080/",
     "height": 248
    },
    "colab_type": "code",
    "executionInfo": {
     "elapsed": 36345,
     "status": "ok",
     "timestamp": 1562386586573,
     "user": {
      "displayName": "leitstern ray",
      "photoUrl": "",
      "userId": "18220161813723689773"
     },
     "user_tz": -330
    },
    "id": "HKVFrmahS1CL",
    "outputId": "4c5c5cfa-6d01-46b9-970f-d9444ecc5e2c"
   },
   "outputs": [
    {
     "name": "stdout",
     "output_type": "stream",
     "text": [
      "**Author**: Yann LeCun, Corinna Cortes, Christopher J.C. Burges  \n",
      "**Source**: [MNIST Website](http://yann.lecun.com/exdb/mnist/) - Date unknown  \n",
      "**Please cite**:  \n",
      "\n",
      "The MNIST database of handwritten digits with 784 features, raw data available at: http://yann.lecun.com/exdb/mnist/. It can be split in a training set of the first 60,000 examples, and a test set of 10,000 examples  \n",
      "\n",
      "It is a subset of a larger set available from NIST. The digits have been size-normalized and centered in a fixed-size image. It is a good database for people who want to try learning techniques and pattern recognition methods on real-world data while spending minimal efforts on preprocessing and formatting. The original black and white (bilevel) images from NIST were size normalized to fit in a 20x20 pixel box while preserving their aspect ratio. The resulting images contain grey levels as a result of the anti-aliasing technique used by the normalization algorithm. the images were centered in a 28x28 image by computing the center of mass of the pixels, and translating the image so as to position this point at the center of the 28x28 field.  \n",
      "\n",
      "With some classification methods (particularly template-based methods, such as SVM and K-nearest neighbors), the error rate improves when the digits are centered by bounding box rather than center of mass. If you do this kind of pre-processing, you should report it in your publications. The MNIST database was constructed from NIST's NIST originally designated SD-3 as their training set and SD-1 as their test set. However, SD-3 is much cleaner and easier to recognize than SD-1. The reason for this can be found on the fact that SD-3 was collected among Census Bureau employees, while SD-1 was collected among high-school students. Drawing sensible conclusions from learning experiments requires that the result be independent of the choice of training set and test among the complete set of samples. Therefore it was necessary to build a new database by mixing NIST's datasets.  \n",
      "\n",
      "The MNIST training set is composed of 30,000 patterns from SD-3 and 30,000 patterns from SD-1. Our test set was composed of 5,000 patterns from SD-3 and 5,000 patterns from SD-1. The 60,000 pattern training set contained examples from approximately 250 writers. We made sure that the sets of writers of the training set and test set were disjoint. SD-1 contains 58,527 digit images written by 500 different writers. In contrast to SD-3, where blocks of data from each writer appeared in sequence, the data in SD-1 is scrambled. Writer identities for SD-1 is available and we used this information to unscramble the writers. We then split SD-1 in two: characters written by the first 250 writers went into our new training set. The remaining 250 writers were placed in our test set. Thus we had two sets with nearly 30,000 examples each. The new training set was completed with enough examples from SD-3, starting at pattern # 0, to make a full set of 60,000 training patterns. Similarly, the new test set was completed with SD-3 examples starting at pattern # 35,000 to make a full set with 60,000 test patterns. Only a subset of 10,000 test images (5,000 from SD-1 and 5,000 from SD-3) is available on this site. The full 60,000 sample training set is available.\n",
      "\n",
      "Downloaded from openml.org.\n"
     ]
    }
   ],
   "source": [
    "print(mnist.DESCR)"
   ]
  },
  {
   "cell_type": "code",
   "execution_count": 5,
   "metadata": {
    "colab": {
     "base_uri": "https://localhost:8080/",
     "height": 33
    },
    "colab_type": "code",
    "executionInfo": {
     "elapsed": 36332,
     "status": "ok",
     "timestamp": 1562386586574,
     "user": {
      "displayName": "leitstern ray",
      "photoUrl": "",
      "userId": "18220161813723689773"
     },
     "user_tz": -330
    },
    "id": "cT7HzbX9TORV",
    "outputId": "ad9b8817-e778-4b7e-c085-b2353043df53"
   },
   "outputs": [
    {
     "data": {
      "text/plain": [
       "(70000, 784)"
      ]
     },
     "execution_count": 5,
     "metadata": {
      "tags": []
     },
     "output_type": "execute_result"
    }
   ],
   "source": [
    "mnist.data.shape"
   ]
  },
  {
   "cell_type": "code",
   "execution_count": 0,
   "metadata": {
    "colab": {},
    "colab_type": "code",
    "id": "i36Hj5YLVKyE"
   },
   "outputs": [],
   "source": [
    "sample_digit = mnist.data[0]"
   ]
  },
  {
   "cell_type": "code",
   "execution_count": 0,
   "metadata": {
    "colab": {},
    "colab_type": "code",
    "id": "BwoxuS8wVhzF"
   },
   "outputs": [],
   "source": [
    "sample_digit_img = sample_digit.reshape(28, 28)"
   ]
  },
  {
   "cell_type": "code",
   "execution_count": 8,
   "metadata": {
    "colab": {
     "base_uri": "https://localhost:8080/",
     "height": 281
    },
    "colab_type": "code",
    "executionInfo": {
     "elapsed": 36321,
     "status": "ok",
     "timestamp": 1562386586578,
     "user": {
      "displayName": "leitstern ray",
      "photoUrl": "",
      "userId": "18220161813723689773"
     },
     "user_tz": -330
    },
    "id": "LSfvt9iEVppU",
    "outputId": "d9993ace-8ed1-441a-9dff-62293be2abf3"
   },
   "outputs": [
    {
     "data": {
      "text/plain": [
       "(-0.5, 27.5, 27.5, -0.5)"
      ]
     },
     "execution_count": 8,
     "metadata": {
      "tags": []
     },
     "output_type": "execute_result"
    },
    {
     "data": {
      "image/png": "[encoded data removed]",
      "text/plain": [
       "<Figure size 432x288 with 1 Axes>"
      ]
     },
     "metadata": {
      "tags": []
     },
     "output_type": "display_data"
    }
   ],
   "source": [
    "plt.imshow(sample_digit_img, cmap=plt.cm.binary, interpolation='gaussian')\n",
    "plt.axis('off')"
   ]
  },
  {
   "cell_type": "code",
   "execution_count": 9,
   "metadata": {
    "colab": {
     "base_uri": "https://localhost:8080/",
     "height": 33
    },
    "colab_type": "code",
    "executionInfo": {
     "elapsed": 36313,
     "status": "ok",
     "timestamp": 1562386586579,
     "user": {
      "displayName": "leitstern ray",
      "photoUrl": "",
      "userId": "18220161813723689773"
     },
     "user_tz": -330
    },
    "id": "LPepkbapV2tU",
    "outputId": "1c4274bc-9385-4bea-97cd-7da7b475124a"
   },
   "outputs": [
    {
     "data": {
      "text/plain": [
       "'5'"
      ]
     },
     "execution_count": 9,
     "metadata": {
      "tags": []
     },
     "output_type": "execute_result"
    }
   ],
   "source": [
    "mnist.target[0]"
   ]
  },
  {
   "cell_type": "code",
   "execution_count": 0,
   "metadata": {
    "colab": {},
    "colab_type": "code",
    "id": "3aGQ-vH7WeMc"
   },
   "outputs": [],
   "source": [
    "from sklearn.model_selection import train_test_split"
   ]
  },
  {
   "cell_type": "code",
   "execution_count": 0,
   "metadata": {
    "colab": {},
    "colab_type": "code",
    "id": "UfnunEO5X9wY"
   },
   "outputs": [],
   "source": [
    "X_train, X_test, y_train, y_test = train_test_split(mnist.data, mnist.target, test_size=0.2)"
   ]
  },
  {
   "cell_type": "code",
   "execution_count": 12,
   "metadata": {
    "colab": {
     "base_uri": "https://localhost:8080/",
     "height": 33
    },
    "colab_type": "code",
    "executionInfo": {
     "elapsed": 37089,
     "status": "ok",
     "timestamp": 1562386587366,
     "user": {
      "displayName": "leitstern ray",
      "photoUrl": "",
      "userId": "18220161813723689773"
     },
     "user_tz": -330
    },
    "id": "i97qUtf8Y3ZM",
    "outputId": "0d829fe2-448f-42ed-9be6-a9e999aaa667"
   },
   "outputs": [
    {
     "data": {
      "text/plain": [
       "array(['5', '4', '3', '5', '0'], dtype=object)"
      ]
     },
     "execution_count": 12,
     "metadata": {
      "tags": []
     },
     "output_type": "execute_result"
    }
   ],
   "source": [
    "y_train[:5]"
   ]
  },
  {
   "cell_type": "code",
   "execution_count": 13,
   "metadata": {
    "colab": {
     "base_uri": "https://localhost:8080/",
     "height": 33
    },
    "colab_type": "code",
    "executionInfo": {
     "elapsed": 37081,
     "status": "ok",
     "timestamp": 1562386587367,
     "user": {
      "displayName": "leitstern ray",
      "photoUrl": "",
      "userId": "18220161813723689773"
     },
     "user_tz": -330
    },
    "id": "LjAVZMNbaF19",
    "outputId": "c5f9a9a1-f3cc-4684-8789-68562c29ef3a"
   },
   "outputs": [
    {
     "data": {
      "text/plain": [
       "array(['4', '4', '0', '7', '7'], dtype=object)"
      ]
     },
     "execution_count": 13,
     "metadata": {
      "tags": []
     },
     "output_type": "execute_result"
    }
   ],
   "source": [
    "y_test[:5]"
   ]
  },
  {
   "cell_type": "code",
   "execution_count": 14,
   "metadata": {
    "colab": {
     "base_uri": "https://localhost:8080/",
     "height": 33
    },
    "colab_type": "code",
    "executionInfo": {
     "elapsed": 37072,
     "status": "ok",
     "timestamp": 1562386587367,
     "user": {
      "displayName": "leitstern ray",
      "photoUrl": "",
      "userId": "18220161813723689773"
     },
     "user_tz": -330
    },
    "id": "5m_9phySayht",
    "outputId": "9b6e78f0-f02f-48df-cade-ffb399b06517"
   },
   "outputs": [
    {
     "data": {
      "text/plain": [
       "(56000, 784)"
      ]
     },
     "execution_count": 14,
     "metadata": {
      "tags": []
     },
     "output_type": "execute_result"
    }
   ],
   "source": [
    "X_train.shape"
   ]
  },
  {
   "cell_type": "code",
   "execution_count": 15,
   "metadata": {
    "colab": {
     "base_uri": "https://localhost:8080/",
     "height": 33
    },
    "colab_type": "code",
    "executionInfo": {
     "elapsed": 37066,
     "status": "ok",
     "timestamp": 1562386587368,
     "user": {
      "displayName": "leitstern ray",
      "photoUrl": "",
      "userId": "18220161813723689773"
     },
     "user_tz": -330
    },
    "id": "WiL6Xv5Ua-1K",
    "outputId": "6be8dea0-0cc7-42c4-9acb-d7957700d079"
   },
   "outputs": [
    {
     "data": {
      "text/plain": [
       "(14000, 784)"
      ]
     },
     "execution_count": 15,
     "metadata": {
      "tags": []
     },
     "output_type": "execute_result"
    }
   ],
   "source": [
    "X_test.shape"
   ]
  },
  {
   "cell_type": "code",
   "execution_count": 0,
   "metadata": {
    "colab": {},
    "colab_type": "code",
    "id": "z1Buo88MbCFK"
   },
   "outputs": [],
   "source": [
    "y_train_5 = np.int32(y_train == '5')"
   ]
  },
  {
   "cell_type": "code",
   "execution_count": 17,
   "metadata": {
    "colab": {
     "base_uri": "https://localhost:8080/",
     "height": 98
    },
    "colab_type": "code",
    "executionInfo": {
     "elapsed": 37061,
     "status": "ok",
     "timestamp": 1562386587371,
     "user": {
      "displayName": "leitstern ray",
      "photoUrl": "",
      "userId": "18220161813723689773"
     },
     "user_tz": -330
    },
    "id": "7EZxsfglbgRl",
    "outputId": "4dcb3de2-7c88-4046-9001-30d93430abd0"
   },
   "outputs": [
    {
     "data": {
      "text/plain": [
       "array([1, 0, 0, 1, 0, 0, 0, 0, 0, 0, 0, 0, 1, 0, 1, 0, 0, 0, 0, 0, 0, 0,\n",
       "       0, 0, 0, 0, 1, 0, 0, 0, 1, 0, 0, 0, 0, 0, 0, 0, 0, 1, 0, 0, 0, 0,\n",
       "       0, 0, 0, 1, 0, 0, 1, 0, 0, 0, 0, 0, 1, 1, 0, 0, 0, 1, 0, 0, 0, 0,\n",
       "       0, 0, 0, 0, 0, 0, 0, 0, 0, 0, 0, 0, 0, 1, 0, 0, 0, 0, 0, 0, 0, 0,\n",
       "       0, 0, 0, 0, 0, 0, 0, 0, 0, 0, 0, 0], dtype=int32)"
      ]
     },
     "execution_count": 17,
     "metadata": {
      "tags": []
     },
     "output_type": "execute_result"
    }
   ],
   "source": [
    "y_train_5[:100]"
   ]
  },
  {
   "cell_type": "code",
   "execution_count": 0,
   "metadata": {
    "colab": {},
    "colab_type": "code",
    "id": "aA2UHeTKbjn9"
   },
   "outputs": [],
   "source": [
    "from sklearn.linear_model import LogisticRegression"
   ]
  },
  {
   "cell_type": "code",
   "execution_count": 0,
   "metadata": {
    "colab": {},
    "colab_type": "code",
    "id": "hHvuS8OFktmM"
   },
   "outputs": [],
   "source": [
    "log_reg = LogisticRegression(solver='lbfgs', max_iter=500)"
   ]
  },
  {
   "cell_type": "code",
   "execution_count": 20,
   "metadata": {
    "colab": {
     "base_uri": "https://localhost:8080/",
     "height": 151
    },
    "colab_type": "code",
    "executionInfo": {
     "elapsed": 75376,
     "status": "ok",
     "timestamp": 1562386625693,
     "user": {
      "displayName": "leitstern ray",
      "photoUrl": "",
      "userId": "18220161813723689773"
     },
     "user_tz": -330
    },
    "id": "4n5rVN75k4BU",
    "outputId": "f97f7e5a-643d-4e3d-a10b-e0d74c830277"
   },
   "outputs": [
    {
     "name": "stderr",
     "output_type": "stream",
     "text": [
      "/usr/local/lib/python3.6/dist-packages/sklearn/linear_model/logistic.py:947: ConvergenceWarning: lbfgs failed to converge. Increase the number of iterations.\n",
      "  \"of iterations.\", ConvergenceWarning)\n"
     ]
    },
    {
     "data": {
      "text/plain": [
       "LogisticRegression(C=1.0, class_weight=None, dual=False, fit_intercept=True,\n",
       "                   intercept_scaling=1, l1_ratio=None, max_iter=500,\n",
       "                   multi_class='warn', n_jobs=None, penalty='l2',\n",
       "                   random_state=None, solver='lbfgs', tol=0.0001, verbose=0,\n",
       "                   warm_start=False)"
      ]
     },
     "execution_count": 20,
     "metadata": {
      "tags": []
     },
     "output_type": "execute_result"
    }
   ],
   "source": [
    "log_reg.fit(X_train, y_train_5)"
   ]
  },
  {
   "cell_type": "code",
   "execution_count": 21,
   "metadata": {
    "colab": {
     "base_uri": "https://localhost:8080/",
     "height": 33
    },
    "colab_type": "code",
    "executionInfo": {
     "elapsed": 75370,
     "status": "ok",
     "timestamp": 1562386625694,
     "user": {
      "displayName": "leitstern ray",
      "photoUrl": "",
      "userId": "18220161813723689773"
     },
     "user_tz": -330
    },
    "id": "IfNx12Elk_n8",
    "outputId": "09207404-0b95-4d8b-cc27-8590aadbae5a"
   },
   "outputs": [
    {
     "data": {
      "text/plain": [
       "array([1], dtype=int32)"
      ]
     },
     "execution_count": 21,
     "metadata": {
      "tags": []
     },
     "output_type": "execute_result"
    }
   ],
   "source": [
    "log_reg.predict([sample_digit])"
   ]
  },
  {
   "cell_type": "code",
   "execution_count": 0,
   "metadata": {
    "colab": {},
    "colab_type": "code",
    "id": "A7J8OLwFmiVl"
   },
   "outputs": [],
   "source": [
    "from sklearn.linear_model import SGDClassifier"
   ]
  },
  {
   "cell_type": "code",
   "execution_count": 0,
   "metadata": {
    "colab": {},
    "colab_type": "code",
    "id": "HzSr8uNVnDtM"
   },
   "outputs": [],
   "source": [
    "sgd_clf = SGDClassifier(loss='log', max_iter=1000, tol=1.0, n_jobs=-1)"
   ]
  },
  {
   "cell_type": "code",
   "execution_count": 24,
   "metadata": {
    "colab": {
     "base_uri": "https://localhost:8080/",
     "height": 115
    },
    "colab_type": "code",
    "executionInfo": {
     "elapsed": 94495,
     "status": "ok",
     "timestamp": 1562386644828,
     "user": {
      "displayName": "leitstern ray",
      "photoUrl": "",
      "userId": "18220161813723689773"
     },
     "user_tz": -330
    },
    "id": "Mg_SfU6koKRc",
    "outputId": "596785a1-6b1f-4705-d977-82e064bb07be"
   },
   "outputs": [
    {
     "data": {
      "text/plain": [
       "SGDClassifier(alpha=0.0001, average=False, class_weight=None,\n",
       "              early_stopping=False, epsilon=0.1, eta0=0.0, fit_intercept=True,\n",
       "              l1_ratio=0.15, learning_rate='optimal', loss='log', max_iter=1000,\n",
       "              n_iter_no_change=5, n_jobs=-1, penalty='l2', power_t=0.5,\n",
       "              random_state=None, shuffle=True, tol=1.0, validation_fraction=0.1,\n",
       "              verbose=0, warm_start=False)"
      ]
     },
     "execution_count": 24,
     "metadata": {
      "tags": []
     },
     "output_type": "execute_result"
    }
   ],
   "source": [
    "sgd_clf.fit(X_train, y_train_5)"
   ]
  },
  {
   "cell_type": "code",
   "execution_count": 25,
   "metadata": {
    "colab": {
     "base_uri": "https://localhost:8080/",
     "height": 33
    },
    "colab_type": "code",
    "executionInfo": {
     "elapsed": 94490,
     "status": "ok",
     "timestamp": 1562386644829,
     "user": {
      "displayName": "leitstern ray",
      "photoUrl": "",
      "userId": "18220161813723689773"
     },
     "user_tz": -330
    },
    "id": "DSIRK4o_oPTM",
    "outputId": "b0516682-231a-4774-bcf4-46ce77b950cd"
   },
   "outputs": [
    {
     "data": {
      "text/plain": [
       "array([1], dtype=int32)"
      ]
     },
     "execution_count": 25,
     "metadata": {
      "tags": []
     },
     "output_type": "execute_result"
    }
   ],
   "source": [
    "sgd_clf.predict([sample_digit])"
   ]
  },
  {
   "cell_type": "markdown",
   "metadata": {
    "colab_type": "text",
    "id": "c0Wg8UCsogW9"
   },
   "source": [
    "# Calculating Accuracy of a classifier"
   ]
  },
  {
   "cell_type": "code",
   "execution_count": 0,
   "metadata": {
    "colab": {},
    "colab_type": "code",
    "id": "9MLBDgEgo2V4"
   },
   "outputs": [],
   "source": [
    "from sklearn.model_selection import cross_val_score"
   ]
  },
  {
   "cell_type": "code",
   "execution_count": 0,
   "metadata": {
    "colab": {},
    "colab_type": "code",
    "id": "fstiWFdNrSy1"
   },
   "outputs": [],
   "source": [
    "scores = cross_val_score(sgd_clf, X_train, y_train_5, cv=3, scoring='accuracy')"
   ]
  },
  {
   "cell_type": "code",
   "execution_count": 28,
   "metadata": {
    "colab": {
     "base_uri": "https://localhost:8080/",
     "height": 33
    },
    "colab_type": "code",
    "executionInfo": {
     "elapsed": 123809,
     "status": "ok",
     "timestamp": 1562386674156,
     "user": {
      "displayName": "leitstern ray",
      "photoUrl": "",
      "userId": "18220161813723689773"
     },
     "user_tz": -330
    },
    "id": "fn8nQ5d7r1OF",
    "outputId": "749b9c68-4a7e-45c1-b4a0-4c5b27e05d9d"
   },
   "outputs": [
    {
     "data": {
      "text/plain": [
       "array([0.96582204, 0.96764343, 0.96796314])"
      ]
     },
     "execution_count": 28,
     "metadata": {
      "tags": []
     },
     "output_type": "execute_result"
    }
   ],
   "source": [
    "scores"
   ]
  },
  {
   "cell_type": "code",
   "execution_count": 29,
   "metadata": {
    "colab": {
     "base_uri": "https://localhost:8080/",
     "height": 135
    },
    "colab_type": "code",
    "executionInfo": {
     "elapsed": 201613,
     "status": "ok",
     "timestamp": 1562386751967,
     "user": {
      "displayName": "leitstern ray",
      "photoUrl": "",
      "userId": "18220161813723689773"
     },
     "user_tz": -330
    },
    "id": "wCXgPtoasBIF",
    "outputId": "06ec325d-1de2-4e01-ebc7-b75fd478b4c3"
   },
   "outputs": [
    {
     "name": "stderr",
     "output_type": "stream",
     "text": [
      "/usr/local/lib/python3.6/dist-packages/sklearn/linear_model/logistic.py:947: ConvergenceWarning: lbfgs failed to converge. Increase the number of iterations.\n",
      "  \"of iterations.\", ConvergenceWarning)\n",
      "/usr/local/lib/python3.6/dist-packages/sklearn/linear_model/logistic.py:947: ConvergenceWarning: lbfgs failed to converge. Increase the number of iterations.\n",
      "  \"of iterations.\", ConvergenceWarning)\n",
      "/usr/local/lib/python3.6/dist-packages/sklearn/linear_model/logistic.py:947: ConvergenceWarning: lbfgs failed to converge. Increase the number of iterations.\n",
      "  \"of iterations.\", ConvergenceWarning)\n"
     ]
    }
   ],
   "source": [
    "scores_2 = cross_val_score(log_reg, X_train, y_train_5, cv=3, scoring='accuracy')"
   ]
  },
  {
   "cell_type": "code",
   "execution_count": 30,
   "metadata": {
    "colab": {
     "base_uri": "https://localhost:8080/",
     "height": 33
    },
    "colab_type": "code",
    "executionInfo": {
     "elapsed": 201607,
     "status": "ok",
     "timestamp": 1562386751968,
     "user": {
      "displayName": "leitstern ray",
      "photoUrl": "",
      "userId": "18220161813723689773"
     },
     "user_tz": -330
    },
    "id": "upYRFrfMsRBF",
    "outputId": "2065a7e4-8d82-4042-f97a-4aec659c24b1"
   },
   "outputs": [
    {
     "data": {
      "text/plain": [
       "array([0.97235764, 0.97396475, 0.9740705 ])"
      ]
     },
     "execution_count": 30,
     "metadata": {
      "tags": []
     },
     "output_type": "execute_result"
    }
   ],
   "source": [
    "scores_2"
   ]
  },
  {
   "cell_type": "code",
   "execution_count": 0,
   "metadata": {
    "colab": {},
    "colab_type": "code",
    "id": "m7O8A8oRssIF"
   },
   "outputs": [],
   "source": [
    "scores_3 = cross_val_score(SGDClassifier(loss='hinge'), X_train, y_train_5, cv=3, scoring='accuracy')"
   ]
  },
  {
   "cell_type": "code",
   "execution_count": 32,
   "metadata": {
    "colab": {
     "base_uri": "https://localhost:8080/",
     "height": 33
    },
    "colab_type": "code",
    "executionInfo": {
     "elapsed": 236803,
     "status": "ok",
     "timestamp": 1562386787173,
     "user": {
      "displayName": "leitstern ray",
      "photoUrl": "",
      "userId": "18220161813723689773"
     },
     "user_tz": -330
    },
    "id": "wDx32F-Ys6k1",
    "outputId": "a3fcc928-db8e-47f5-a015-4fb05fcbcda6"
   },
   "outputs": [
    {
     "data": {
      "text/plain": [
       "array([0.96657203, 0.95553651, 0.96592735])"
      ]
     },
     "execution_count": 32,
     "metadata": {
      "tags": []
     },
     "output_type": "execute_result"
    }
   ],
   "source": [
    "scores_3"
   ]
  },
  {
   "cell_type": "code",
   "execution_count": 0,
   "metadata": {
    "colab": {},
    "colab_type": "code",
    "id": "FGUpTcDOtJK9"
   },
   "outputs": [],
   "source": []
  },
  {
   "cell_type": "markdown",
   "metadata": {
    "colab_type": "text",
    "id": "eVd7I2s-ckw8"
   },
   "source": [
    "# Custom Cross Validation"
   ]
  },
  {
   "cell_type": "code",
   "execution_count": 0,
   "metadata": {
    "colab": {},
    "colab_type": "code",
    "id": "pJuyqDkhc1gO"
   },
   "outputs": [],
   "source": [
    "from sklearn.model_selection import StratifiedKFold\n",
    "from sklearn.base import clone"
   ]
  },
  {
   "cell_type": "code",
   "execution_count": 0,
   "metadata": {
    "colab": {},
    "colab_type": "code",
    "id": "R9wFiahkd48e"
   },
   "outputs": [],
   "source": [
    "kfold = StratifiedKFold(n_splits=3, random_state=42)"
   ]
  },
  {
   "cell_type": "code",
   "execution_count": 35,
   "metadata": {
    "colab": {
     "base_uri": "https://localhost:8080/",
     "height": 66
    },
    "colab_type": "code",
    "executionInfo": {
     "elapsed": 270393,
     "status": "ok",
     "timestamp": 1562386820772,
     "user": {
      "displayName": "leitstern ray",
      "photoUrl": "",
      "userId": "18220161813723689773"
     },
     "user_tz": -330
    },
    "id": "x9WkDNireVk-",
    "outputId": "eea1ab9d-aa4d-444a-f14b-a2574bfef239"
   },
   "outputs": [
    {
     "name": "stdout",
     "output_type": "stream",
     "text": [
      "0.9614292601917823\n",
      "0.9623935286869877\n",
      "0.9631951141112183\n"
     ]
    }
   ],
   "source": [
    "for train_ix, valid_ix in kfold.split(X_train, y_train_5):\n",
    "  sgd_clf_clone = clone(sgd_clf)\n",
    "  X_train_folds = X_train[train_ix]\n",
    "  y_train_folds = y_train_5[train_ix]\n",
    "  X_valid_fold = X_train[valid_ix]\n",
    "  y_valid_fold = y_train_5[valid_ix]\n",
    "  sgd_clf_clone.fit(X_train_folds, y_train_folds)\n",
    "  y_valid_hat = sgd_clf.predict(X_valid_fold)\n",
    "  accuracy = sum(y_valid_hat == y_valid_fold) / len(y_valid_fold)\n",
    "  print(accuracy)"
   ]
  },
  {
   "cell_type": "code",
   "execution_count": 0,
   "metadata": {
    "colab": {},
    "colab_type": "code",
    "id": "jm43y7p8jGvn"
   },
   "outputs": [],
   "source": []
  },
  {
   "cell_type": "markdown",
   "metadata": {
    "colab_type": "text",
    "id": "Ft8rFcadkB3E"
   },
   "source": [
    "# Confusion Matrix"
   ]
  },
  {
   "cell_type": "code",
   "execution_count": 0,
   "metadata": {
    "colab": {},
    "colab_type": "code",
    "id": "N6xBOFIYkHrf"
   },
   "outputs": [],
   "source": [
    "from sklearn.model_selection import cross_val_predict"
   ]
  },
  {
   "cell_type": "code",
   "execution_count": 37,
   "metadata": {
    "colab": {
     "base_uri": "https://localhost:8080/",
     "height": 1000
    },
    "colab_type": "code",
    "executionInfo": {
     "elapsed": 270392,
     "status": "ok",
     "timestamp": 1562386820777,
     "user": {
      "displayName": "leitstern ray",
      "photoUrl": "",
      "userId": "18220161813723689773"
     },
     "user_tz": -330
    },
    "id": "QPhhj2GmoDaW",
    "outputId": "4633600d-7183-4460-8ca7-a599d90003c9"
   },
   "outputs": [
    {
     "name": "stdout",
     "output_type": "stream",
     "text": [
      "Generate cross-validated estimates for each input data point\n",
      "\n",
      "    It is not appropriate to pass these predictions into an evaluation\n",
      "    metric. Use :func:`cross_validate` to measure generalization error.\n",
      "\n",
      "    Read more in the :ref:`User Guide <cross_validation>`.\n",
      "\n",
      "    Parameters\n",
      "    ----------\n",
      "    estimator : estimator object implementing 'fit' and 'predict'\n",
      "        The object to use to fit the data.\n",
      "\n",
      "    X : array-like\n",
      "        The data to fit. Can be, for example a list, or an array at least 2d.\n",
      "\n",
      "    y : array-like, optional, default: None\n",
      "        The target variable to try to predict in the case of\n",
      "        supervised learning.\n",
      "\n",
      "    groups : array-like, with shape (n_samples,), optional\n",
      "        Group labels for the samples used while splitting the dataset into\n",
      "        train/test set.\n",
      "\n",
      "    cv : int, cross-validation generator or an iterable, optional\n",
      "        Determines the cross-validation splitting strategy.\n",
      "        Possible inputs for cv are:\n",
      "\n",
      "        - None, to use the default 3-fold cross validation,\n",
      "        - integer, to specify the number of folds in a `(Stratified)KFold`,\n",
      "        - :term:`CV splitter`,\n",
      "        - An iterable yielding (train, test) splits as arrays of indices.\n",
      "\n",
      "        For integer/None inputs, if the estimator is a classifier and ``y`` is\n",
      "        either binary or multiclass, :class:`StratifiedKFold` is used. In all\n",
      "        other cases, :class:`KFold` is used.\n",
      "\n",
      "        Refer :ref:`User Guide <cross_validation>` for the various\n",
      "        cross-validation strategies that can be used here.\n",
      "\n",
      "        .. versionchanged:: 0.20\n",
      "            ``cv`` default value if None will change from 3-fold to 5-fold\n",
      "            in v0.22.\n",
      "\n",
      "    n_jobs : int or None, optional (default=None)\n",
      "        The number of CPUs to use to do the computation.\n",
      "        ``None`` means 1 unless in a :obj:`joblib.parallel_backend` context.\n",
      "        ``-1`` means using all processors. See :term:`Glossary <n_jobs>`\n",
      "        for more details.\n",
      "\n",
      "    verbose : integer, optional\n",
      "        The verbosity level.\n",
      "\n",
      "    fit_params : dict, optional\n",
      "        Parameters to pass to the fit method of the estimator.\n",
      "\n",
      "    pre_dispatch : int, or string, optional\n",
      "        Controls the number of jobs that get dispatched during parallel\n",
      "        execution. Reducing this number can be useful to avoid an\n",
      "        explosion of memory consumption when more jobs get dispatched\n",
      "        than CPUs can process. This parameter can be:\n",
      "\n",
      "            - None, in which case all the jobs are immediately\n",
      "              created and spawned. Use this for lightweight and\n",
      "              fast-running jobs, to avoid delays due to on-demand\n",
      "              spawning of the jobs\n",
      "\n",
      "            - An int, giving the exact number of total jobs that are\n",
      "              spawned\n",
      "\n",
      "            - A string, giving an expression as a function of n_jobs,\n",
      "              as in '2*n_jobs'\n",
      "\n",
      "    method : string, optional, default: 'predict'\n",
      "        Invokes the passed method name of the passed estimator. For\n",
      "        method='predict_proba', the columns correspond to the classes\n",
      "        in sorted order.\n",
      "\n",
      "    Returns\n",
      "    -------\n",
      "    predictions : ndarray\n",
      "        This is the result of calling ``method``\n",
      "\n",
      "    See also\n",
      "    --------\n",
      "    cross_val_score : calculate score for each CV split\n",
      "\n",
      "    cross_validate : calculate one or more scores and timings for each CV split\n",
      "\n",
      "    Notes\n",
      "    -----\n",
      "    In the case that one or more classes are absent in a training portion, a\n",
      "    default score needs to be assigned to all instances for that class if\n",
      "    ``method`` produces columns per class, as in {'decision_function',\n",
      "    'predict_proba', 'predict_log_proba'}.  For ``predict_proba`` this value is\n",
      "    0.  In order to ensure finite output, we approximate negative infinity by\n",
      "    the minimum finite float value for the dtype in other cases.\n",
      "\n",
      "    Examples\n",
      "    --------\n",
      "    >>> from sklearn import datasets, linear_model\n",
      "    >>> from sklearn.model_selection import cross_val_predict\n",
      "    >>> diabetes = datasets.load_diabetes()\n",
      "    >>> X = diabetes.data[:150]\n",
      "    >>> y = diabetes.target[:150]\n",
      "    >>> lasso = linear_model.Lasso()\n",
      "    >>> y_pred = cross_val_predict(lasso, X, y, cv=3)\n",
      "    \n"
     ]
    }
   ],
   "source": [
    "print(cross_val_predict.__doc__)"
   ]
  },
  {
   "cell_type": "code",
   "execution_count": 0,
   "metadata": {
    "colab": {},
    "colab_type": "code",
    "id": "rXzud7JGoIk1"
   },
   "outputs": [],
   "source": [
    "y_train_5_hat = cross_val_predict(sgd_clf, X_train, y_train_5, cv=3)"
   ]
  },
  {
   "cell_type": "code",
   "execution_count": 0,
   "metadata": {
    "colab": {},
    "colab_type": "code",
    "id": "xIr74MNtoj4d"
   },
   "outputs": [],
   "source": [
    "from sklearn.metrics import confusion_matrix"
   ]
  },
  {
   "cell_type": "code",
   "execution_count": 0,
   "metadata": {
    "colab": {},
    "colab_type": "code",
    "id": "BaNwXif0o3D9"
   },
   "outputs": [],
   "source": [
    "conf_mat = confusion_matrix(y_train_5, y_train_5_hat)"
   ]
  },
  {
   "cell_type": "code",
   "execution_count": 41,
   "metadata": {
    "colab": {
     "base_uri": "https://localhost:8080/",
     "height": 50
    },
    "colab_type": "code",
    "executionInfo": {
     "elapsed": 297480,
     "status": "ok",
     "timestamp": 1562386847871,
     "user": {
      "displayName": "leitstern ray",
      "photoUrl": "",
      "userId": "18220161813723689773"
     },
     "user_tz": -330
    },
    "id": "ydY5twaQo43G",
    "outputId": "5504be83-077a-4b81-fa17-e780aad0a6ad"
   },
   "outputs": [
    {
     "data": {
      "text/plain": [
       "array([[50409,   546],\n",
       "       [ 1409,  3636]])"
      ]
     },
     "execution_count": 41,
     "metadata": {
      "tags": []
     },
     "output_type": "execute_result"
    }
   ],
   "source": [
    "conf_mat"
   ]
  },
  {
   "cell_type": "code",
   "execution_count": 42,
   "metadata": {
    "colab": {
     "base_uri": "https://localhost:8080/",
     "height": 50
    },
    "colab_type": "code",
    "executionInfo": {
     "elapsed": 297477,
     "status": "ok",
     "timestamp": 1562386847872,
     "user": {
      "displayName": "leitstern ray",
      "photoUrl": "",
      "userId": "18220161813723689773"
     },
     "user_tz": -330
    },
    "id": "Aeea9Ic4pEA9",
    "outputId": "d09827ea-baf0-429f-deba-1fd5ac0af5c1"
   },
   "outputs": [
    {
     "data": {
      "text/plain": [
       "array([[50955,     0],\n",
       "       [    0,  5045]])"
      ]
     },
     "execution_count": 42,
     "metadata": {
      "tags": []
     },
     "output_type": "execute_result"
    }
   ],
   "source": [
    "confusion_matrix(y_train_5, y_train_5)"
   ]
  },
  {
   "cell_type": "code",
   "execution_count": 0,
   "metadata": {
    "colab": {},
    "colab_type": "code",
    "id": "s_L-7pwBpX5O"
   },
   "outputs": [],
   "source": [
    "from sklearn.metrics import precision_score, recall_score, f1_score"
   ]
  },
  {
   "cell_type": "code",
   "execution_count": 44,
   "metadata": {
    "colab": {
     "base_uri": "https://localhost:8080/",
     "height": 33
    },
    "colab_type": "code",
    "executionInfo": {
     "elapsed": 297477,
     "status": "ok",
     "timestamp": 1562386847876,
     "user": {
      "displayName": "leitstern ray",
      "photoUrl": "",
      "userId": "18220161813723689773"
     },
     "user_tz": -330
    },
    "id": "j1CeyWYk0iN5",
    "outputId": "50a15f2c-0566-45c5-eae0-5ecf449bc337"
   },
   "outputs": [
    {
     "data": {
      "text/plain": [
       "0.8694404591104734"
      ]
     },
     "execution_count": 44,
     "metadata": {
      "tags": []
     },
     "output_type": "execute_result"
    }
   ],
   "source": [
    "precision_score(y_train_5, y_train_5_hat)"
   ]
  },
  {
   "cell_type": "code",
   "execution_count": 45,
   "metadata": {
    "colab": {
     "base_uri": "https://localhost:8080/",
     "height": 33
    },
    "colab_type": "code",
    "executionInfo": {
     "elapsed": 297472,
     "status": "ok",
     "timestamp": 1562386847876,
     "user": {
      "displayName": "leitstern ray",
      "photoUrl": "",
      "userId": "18220161813723689773"
     },
     "user_tz": -330
    },
    "id": "qXZKtW5s0rtu",
    "outputId": "7f28b316-35b1-45c3-e07c-c80ffe43ae88"
   },
   "outputs": [
    {
     "data": {
      "text/plain": [
       "0.8576718352233279"
      ]
     },
     "execution_count": 45,
     "metadata": {
      "tags": []
     },
     "output_type": "execute_result"
    }
   ],
   "source": [
    "3706 / (615 + 3706)"
   ]
  },
  {
   "cell_type": "code",
   "execution_count": 46,
   "metadata": {
    "colab": {
     "base_uri": "https://localhost:8080/",
     "height": 33
    },
    "colab_type": "code",
    "executionInfo": {
     "elapsed": 297467,
     "status": "ok",
     "timestamp": 1562386847877,
     "user": {
      "displayName": "leitstern ray",
      "photoUrl": "",
      "userId": "18220161813723689773"
     },
     "user_tz": -330
    },
    "id": "iI104Msl00Dl",
    "outputId": "ddf0751b-ee30-4954-8e24-476cb1b24429"
   },
   "outputs": [
    {
     "data": {
      "text/plain": [
       "0.7207135777998018"
      ]
     },
     "execution_count": 46,
     "metadata": {
      "tags": []
     },
     "output_type": "execute_result"
    }
   ],
   "source": [
    "recall_score(y_train_5, y_train_5_hat)"
   ]
  },
  {
   "cell_type": "code",
   "execution_count": 47,
   "metadata": {
    "colab": {
     "base_uri": "https://localhost:8080/",
     "height": 33
    },
    "colab_type": "code",
    "executionInfo": {
     "elapsed": 297460,
     "status": "ok",
     "timestamp": 1562386847878,
     "user": {
      "displayName": "leitstern ray",
      "photoUrl": "",
      "userId": "18220161813723689773"
     },
     "user_tz": -330
    },
    "id": "r5xPqYf51Pmu",
    "outputId": "4c08ff90-c441-481d-b20c-a9200bd6d228"
   },
   "outputs": [
    {
     "data": {
      "text/plain": [
       "0.7394253790901836"
      ]
     },
     "execution_count": 47,
     "metadata": {
      "tags": []
     },
     "output_type": "execute_result"
    }
   ],
   "source": [
    "3706 / (1306 + 3706)"
   ]
  },
  {
   "cell_type": "code",
   "execution_count": 48,
   "metadata": {
    "colab": {
     "base_uri": "https://localhost:8080/",
     "height": 33
    },
    "colab_type": "code",
    "executionInfo": {
     "elapsed": 297454,
     "status": "ok",
     "timestamp": 1562386847879,
     "user": {
      "displayName": "leitstern ray",
      "photoUrl": "",
      "userId": "18220161813723689773"
     },
     "user_tz": -330
    },
    "id": "bP3fURyD1Vv2",
    "outputId": "4fea2b04-7a0c-4e93-8d2f-bb79ee23bd18"
   },
   "outputs": [
    {
     "data": {
      "text/plain": [
       "0.7881218164083668"
      ]
     },
     "execution_count": 48,
     "metadata": {
      "tags": []
     },
     "output_type": "execute_result"
    }
   ],
   "source": [
    "f1_score(y_train_5, y_train_5_hat)"
   ]
  },
  {
   "cell_type": "code",
   "execution_count": 0,
   "metadata": {
    "colab": {},
    "colab_type": "code",
    "id": "OMbR-wim1tr1"
   },
   "outputs": [],
   "source": [
    "df = sgd_clf.decision_function"
   ]
  },
  {
   "cell_type": "code",
   "execution_count": 50,
   "metadata": {
    "colab": {
     "base_uri": "https://localhost:8080/",
     "height": 33
    },
    "colab_type": "code",
    "executionInfo": {
     "elapsed": 297450,
     "status": "ok",
     "timestamp": 1562386847881,
     "user": {
      "displayName": "leitstern ray",
      "photoUrl": "",
      "userId": "18220161813723689773"
     },
     "user_tz": -330
    },
    "id": "g6BNOpI02Npv",
    "outputId": "541ac2e5-d006-4e22-e9ad-8599e96073f5"
   },
   "outputs": [
    {
     "data": {
      "text/plain": [
       "array([8590.04888805])"
      ]
     },
     "execution_count": 50,
     "metadata": {
      "tags": []
     },
     "output_type": "execute_result"
    }
   ],
   "source": [
    "df([X_train[0]])"
   ]
  },
  {
   "cell_type": "code",
   "execution_count": 51,
   "metadata": {
    "colab": {
     "base_uri": "https://localhost:8080/",
     "height": 33
    },
    "colab_type": "code",
    "executionInfo": {
     "elapsed": 297447,
     "status": "ok",
     "timestamp": 1562386847882,
     "user": {
      "displayName": "leitstern ray",
      "photoUrl": "",
      "userId": "18220161813723689773"
     },
     "user_tz": -330
    },
    "id": "0teea5Wv2gYG",
    "outputId": "254eb783-7c7f-4539-ac80-ed3936733d88"
   },
   "outputs": [
    {
     "data": {
      "text/plain": [
       "array([ True])"
      ]
     },
     "execution_count": 51,
     "metadata": {
      "tags": []
     },
     "output_type": "execute_result"
    }
   ],
   "source": [
    "df([X_train[0]]) > 0"
   ]
  },
  {
   "cell_type": "code",
   "execution_count": 52,
   "metadata": {
    "colab": {
     "base_uri": "https://localhost:8080/",
     "height": 33
    },
    "colab_type": "code",
    "executionInfo": {
     "elapsed": 297442,
     "status": "ok",
     "timestamp": 1562386847882,
     "user": {
      "displayName": "leitstern ray",
      "photoUrl": "",
      "userId": "18220161813723689773"
     },
     "user_tz": -330
    },
    "id": "woF86PfL2myd",
    "outputId": "375fdbde-1512-4282-fe8a-2e94a67f9478"
   },
   "outputs": [
    {
     "data": {
      "text/plain": [
       "array([False])"
      ]
     },
     "execution_count": 52,
     "metadata": {
      "tags": []
     },
     "output_type": "execute_result"
    }
   ],
   "source": [
    "df([X_train[0]]) > 15000"
   ]
  },
  {
   "cell_type": "markdown",
   "metadata": {
    "colab_type": "text",
    "id": "Ke-5mWWLg_ea"
   },
   "source": [
    "# Computing the thresold to achieve a specific precision and recall"
   ]
  },
  {
   "cell_type": "code",
   "execution_count": 0,
   "metadata": {
    "colab": {},
    "colab_type": "code",
    "id": "ZBe-lpQb3mPG"
   },
   "outputs": [],
   "source": [
    "decision_scores = cross_val_predict(sgd_clf, X_train, y_train_5, cv=3, method='decision_function')"
   ]
  },
  {
   "cell_type": "code",
   "execution_count": 0,
   "metadata": {
    "colab": {},
    "colab_type": "code",
    "id": "bZ_bwxTB41Ym"
   },
   "outputs": [],
   "source": [
    "# Draw precision recall vs thresold curve\n",
    "from sklearn.metrics import precision_recall_curve"
   ]
  },
  {
   "cell_type": "code",
   "execution_count": 0,
   "metadata": {
    "colab": {},
    "colab_type": "code",
    "id": "sOrLcKNuhunL"
   },
   "outputs": [],
   "source": [
    "precisions, recalls, thresolds = precision_recall_curve(y_train_5, decision_scores)"
   ]
  },
  {
   "cell_type": "code",
   "execution_count": 59,
   "metadata": {
    "colab": {
     "base_uri": "https://localhost:8080/",
     "height": 283
    },
    "colab_type": "code",
    "executionInfo": {
     "elapsed": 1076,
     "status": "ok",
     "timestamp": 1562387904955,
     "user": {
      "displayName": "leitstern ray",
      "photoUrl": "",
      "userId": "18220161813723689773"
     },
     "user_tz": -330
    },
    "id": "8TE4_TqRiOug",
    "outputId": "d8130237-f59e-4c39-f442-db261fd6201c"
   },
   "outputs": [
    {
     "data": {
      "image/png": "[encoded data removed]",
      "text/plain": [
       "<Figure size 432x288 with 1 Axes>"
      ]
     },
     "metadata": {
      "tags": []
     },
     "output_type": "display_data"
    }
   ],
   "source": [
    "def plot_precision_recall_vs_thresold(precisions, recalls, thresolds):\n",
    "    plt.plot(thresolds, precisions[:-1], 'b-', label=\"Precisions\")\n",
    "    plt.plot(thresolds, recalls[:-1], 'g--', label=\"Recalls\")\n",
    "    plt.xlabel(\"Thresolds\")\n",
    "    plt.legend(loc='center left')\n",
    "    plt.ylim(0, 1)\n",
    "plot_precision_recall_vs_thresold(precisions, recalls, thresolds)\n",
    "plt.show()"
   ]
  },
  {
   "cell_type": "code",
   "execution_count": 0,
   "metadata": {
    "colab": {},
    "colab_type": "code",
    "id": "T5er5CZTiWI3"
   },
   "outputs": [],
   "source": [
    "# thresold for 90 % precision\n",
    "thresold = thresolds[np.argmax(np.float32(precisions[:-1] >= 0.9))]"
   ]
  },
  {
   "cell_type": "code",
   "execution_count": 63,
   "metadata": {
    "colab": {
     "base_uri": "https://localhost:8080/",
     "height": 33
    },
    "colab_type": "code",
    "executionInfo": {
     "elapsed": 817,
     "status": "ok",
     "timestamp": 1562388480829,
     "user": {
      "displayName": "leitstern ray",
      "photoUrl": "",
      "userId": "18220161813723689773"
     },
     "user_tz": -330
    },
    "id": "y204cOpgm0Ml",
    "outputId": "c1969fc4-891e-43b9-f385-2ca80e2a5455"
   },
   "outputs": [
    {
     "data": {
      "text/plain": [
       "557.4528985270414"
      ]
     },
     "execution_count": 63,
     "metadata": {
      "tags": []
     },
     "output_type": "execute_result"
    }
   ],
   "source": [
    "thresold"
   ]
  },
  {
   "cell_type": "code",
   "execution_count": 0,
   "metadata": {
    "colab": {},
    "colab_type": "code",
    "id": "-Cw8zDnom18A"
   },
   "outputs": [],
   "source": [
    "y_train_hat = decision_scores >= thresold"
   ]
  },
  {
   "cell_type": "code",
   "execution_count": 0,
   "metadata": {
    "colab": {},
    "colab_type": "code",
    "id": "XlL6lxrdoTA_"
   },
   "outputs": [],
   "source": [
    "precision_val = precision_score(y_train_5, y_train_hat)"
   ]
  },
  {
   "cell_type": "code",
   "execution_count": 66,
   "metadata": {
    "colab": {
     "base_uri": "https://localhost:8080/",
     "height": 33
    },
    "colab_type": "code",
    "executionInfo": {
     "elapsed": 977,
     "status": "ok",
     "timestamp": 1562388892097,
     "user": {
      "displayName": "leitstern ray",
      "photoUrl": "",
      "userId": "18220161813723689773"
     },
     "user_tz": -330
    },
    "id": "pNMioL-komd5",
    "outputId": "75c35e1b-48fb-45ab-9d86-0ca67b0161fe"
   },
   "outputs": [
    {
     "data": {
      "text/plain": [
       "0.9001919385796545"
      ]
     },
     "execution_count": 66,
     "metadata": {
      "tags": []
     },
     "output_type": "execute_result"
    }
   ],
   "source": [
    "precision_val"
   ]
  },
  {
   "cell_type": "code",
   "execution_count": 0,
   "metadata": {
    "colab": {},
    "colab_type": "code",
    "id": "iIMzz9Y_ooXI"
   },
   "outputs": [],
   "source": [
    "recall_val = recall_score(y_train_5, y_train_hat)"
   ]
  },
  {
   "cell_type": "code",
   "execution_count": 68,
   "metadata": {
    "colab": {
     "base_uri": "https://localhost:8080/",
     "height": 33
    },
    "colab_type": "code",
    "executionInfo": {
     "elapsed": 989,
     "status": "ok",
     "timestamp": 1562388970212,
     "user": {
      "displayName": "leitstern ray",
      "photoUrl": "",
      "userId": "18220161813723689773"
     },
     "user_tz": -330
    },
    "id": "fxHSqPcWo59w",
    "outputId": "09f1c2ce-7e0a-4be9-8e40-a86219271e6d"
   },
   "outputs": [
    {
     "data": {
      "text/plain": [
       "0.6507433102081268"
      ]
     },
     "execution_count": 68,
     "metadata": {
      "tags": []
     },
     "output_type": "execute_result"
    }
   ],
   "source": [
    "recall_val"
   ]
  },
  {
   "cell_type": "code",
   "execution_count": 0,
   "metadata": {
    "colab": {},
    "colab_type": "code",
    "id": "Gw_10j2Jo7bg"
   },
   "outputs": [],
   "source": []
  },
  {
   "cell_type": "markdown",
   "metadata": {
    "colab_type": "text",
    "id": "a9rpMfH9pU0q"
   },
   "source": [
    "# Receiver Operating Characteristic (ROC) Curve TPR (Recall or Sensitivity) vs. FPR (1 - specificity)"
   ]
  },
  {
   "cell_type": "code",
   "execution_count": 69,
   "metadata": {
    "colab": {
     "base_uri": "https://localhost:8080/",
     "height": 283
    },
    "colab_type": "code",
    "executionInfo": {
     "elapsed": 1251,
     "status": "ok",
     "timestamp": 1562389852735,
     "user": {
      "displayName": "leitstern ray",
      "photoUrl": "",
      "userId": "18220161813723689773"
     },
     "user_tz": -330
    },
    "id": "axBk5X0RplDo",
    "outputId": "7d680dd0-f3af-45c8-e984-df9ade62786a"
   },
   "outputs": [
    {
     "data": {
      "image/png": "[encoded data removed]",
      "text/plain": [
       "<Figure size 432x288 with 1 Axes>"
      ]
     },
     "metadata": {
      "tags": []
     },
     "output_type": "display_data"
    }
   ],
   "source": [
    "from sklearn.metrics import  roc_curve, roc_auc_score\n",
    "fpr, tpr, thresolds = roc_curve(y_train_5, decision_scores)\n",
    "def plot_tpr_vs_fpr(fpr, tpr, label=None):\n",
    "    plt.plot(fpr, tpr, 'b-', linewidth=2, label=label)\n",
    "    plt.plot([0, 1], [0, 1], 'k--')\n",
    "    plt.xlabel('False Positive Rate', color='r')\n",
    "    plt.ylabel('True Positive Rate', color='r')\n",
    "plot_tpr_vs_fpr(fpr, tpr)\n",
    "plt.show()"
   ]
  },
  {
   "cell_type": "code",
   "execution_count": 0,
   "metadata": {
    "colab": {},
    "colab_type": "code",
    "id": "hvZJVCAcsS0x"
   },
   "outputs": [],
   "source": [
    "sgd_auc = roc_auc_score(y_train_5, decision_scores)"
   ]
  },
  {
   "cell_type": "code",
   "execution_count": 72,
   "metadata": {
    "colab": {
     "base_uri": "https://localhost:8080/",
     "height": 33
    },
    "colab_type": "code",
    "executionInfo": {
     "elapsed": 895,
     "status": "ok",
     "timestamp": 1562390183049,
     "user": {
      "displayName": "leitstern ray",
      "photoUrl": "",
      "userId": "18220161813723689773"
     },
     "user_tz": -330
    },
    "id": "rYTJDwCatfVg",
    "outputId": "d39ccade-a575-48c9-9079-ed4c9472b9d5"
   },
   "outputs": [
    {
     "data": {
      "text/plain": [
       "0.9671194204567879"
      ]
     },
     "execution_count": 72,
     "metadata": {
      "tags": []
     },
     "output_type": "execute_result"
    }
   ],
   "source": [
    "sgd_auc"
   ]
  },
  {
   "cell_type": "code",
   "execution_count": 0,
   "metadata": {
    "colab": {},
    "colab_type": "code",
    "id": "uxqItb8ktjjg"
   },
   "outputs": [],
   "source": [
    "from sklearn.ensemble import RandomForestClassifier"
   ]
  },
  {
   "cell_type": "code",
   "execution_count": 0,
   "metadata": {
    "colab": {},
    "colab_type": "code",
    "id": "HSE-khcMzvn_"
   },
   "outputs": [],
   "source": [
    "rand_clf = RandomForestClassifier()"
   ]
  },
  {
   "cell_type": "code",
   "execution_count": 75,
   "metadata": {
    "colab": {
     "base_uri": "https://localhost:8080/",
     "height": 135
    },
    "colab_type": "code",
    "executionInfo": {
     "elapsed": 12044,
     "status": "ok",
     "timestamp": 1562392150288,
     "user": {
      "displayName": "leitstern ray",
      "photoUrl": "",
      "userId": "18220161813723689773"
     },
     "user_tz": -330
    },
    "id": "zsCCRcmsz27p",
    "outputId": "e0c8cd6a-d58f-4b9a-b302-c004f1615ee8"
   },
   "outputs": [
    {
     "name": "stderr",
     "output_type": "stream",
     "text": [
      "/usr/local/lib/python3.6/dist-packages/sklearn/ensemble/forest.py:245: FutureWarning: The default value of n_estimators will change from 10 in version 0.20 to 100 in 0.22.\n",
      "  \"10 in version 0.20 to 100 in 0.22.\", FutureWarning)\n",
      "/usr/local/lib/python3.6/dist-packages/sklearn/ensemble/forest.py:245: FutureWarning: The default value of n_estimators will change from 10 in version 0.20 to 100 in 0.22.\n",
      "  \"10 in version 0.20 to 100 in 0.22.\", FutureWarning)\n",
      "/usr/local/lib/python3.6/dist-packages/sklearn/ensemble/forest.py:245: FutureWarning: The default value of n_estimators will change from 10 in version 0.20 to 100 in 0.22.\n",
      "  \"10 in version 0.20 to 100 in 0.22.\", FutureWarning)\n"
     ]
    }
   ],
   "source": [
    "probas = cross_val_predict(rand_clf, X_train, y_train_5, cv=3, method='predict_proba')"
   ]
  },
  {
   "cell_type": "code",
   "execution_count": 76,
   "metadata": {
    "colab": {
     "base_uri": "https://localhost:8080/",
     "height": 98
    },
    "colab_type": "code",
    "executionInfo": {
     "elapsed": 874,
     "status": "ok",
     "timestamp": 1562392168527,
     "user": {
      "displayName": "leitstern ray",
      "photoUrl": "",
      "userId": "18220161813723689773"
     },
     "user_tz": -330
    },
    "id": "xeL01XyB1BHR",
    "outputId": "098b16fc-da0e-4105-ea06-03d1fe920eb7"
   },
   "outputs": [
    {
     "data": {
      "text/plain": [
       "array([[0.1, 0.9],\n",
       "       [1. , 0. ],\n",
       "       [1. , 0. ],\n",
       "       [0.4, 0.6],\n",
       "       [1. , 0. ]])"
      ]
     },
     "execution_count": 76,
     "metadata": {
      "tags": []
     },
     "output_type": "execute_result"
    }
   ],
   "source": [
    "probas[:5]"
   ]
  },
  {
   "cell_type": "code",
   "execution_count": 0,
   "metadata": {
    "colab": {},
    "colab_type": "code",
    "id": "NUdZs8311ISv"
   },
   "outputs": [],
   "source": [
    "y_scores_rand = probas[:, 1]"
   ]
  },
  {
   "cell_type": "code",
   "execution_count": 82,
   "metadata": {
    "colab": {
     "base_uri": "https://localhost:8080/",
     "height": 33
    },
    "colab_type": "code",
    "executionInfo": {
     "elapsed": 649,
     "status": "ok",
     "timestamp": 1562392379311,
     "user": {
      "displayName": "leitstern ray",
      "photoUrl": "",
      "userId": "18220161813723689773"
     },
     "user_tz": -330
    },
    "id": "vGDvDepQ1x7o",
    "outputId": "8f90dcda-2155-46af-9abe-37b0431652ca"
   },
   "outputs": [
    {
     "data": {
      "text/plain": [
       "array([0.9, 0. , 0. , 0.6, 0. ])"
      ]
     },
     "execution_count": 82,
     "metadata": {
      "tags": []
     },
     "output_type": "execute_result"
    }
   ],
   "source": [
    "y_scores_rand[:5]"
   ]
  },
  {
   "cell_type": "code",
   "execution_count": 0,
   "metadata": {
    "colab": {},
    "colab_type": "code",
    "id": "01Fl95ey10oP"
   },
   "outputs": [],
   "source": [
    "fpr_random, tpr_random, thresolds = roc_curve(y_train_5, y_scores_rand)"
   ]
  },
  {
   "cell_type": "code",
   "execution_count": 85,
   "metadata": {
    "colab": {
     "base_uri": "https://localhost:8080/",
     "height": 283
    },
    "colab_type": "code",
    "executionInfo": {
     "elapsed": 1026,
     "status": "ok",
     "timestamp": 1562392598906,
     "user": {
      "displayName": "leitstern ray",
      "photoUrl": "",
      "userId": "18220161813723689773"
     },
     "user_tz": -330
    },
    "id": "p1yW4Lor2X55",
    "outputId": "4f4e6fb8-efef-4358-a587-249201291fa5"
   },
   "outputs": [
    {
     "data": {
      "image/png": "[encoded data removed]",
      "text/plain": [
       "<Figure size 432x288 with 1 Axes>"
      ]
     },
     "metadata": {
      "tags": []
     },
     "output_type": "display_data"
    }
   ],
   "source": [
    "plt.plot(fpr, tpr, 'g:', label='SGD')\n",
    "plot_tpr_vs_fpr(fpr_random, tpr_random, label='Random Forest')\n",
    "plt.legend(loc='center right')\n",
    "plt.show()"
   ]
  },
  {
   "cell_type": "code",
   "execution_count": 0,
   "metadata": {
    "colab": {},
    "colab_type": "code",
    "id": "4RLpwJk12xVH"
   },
   "outputs": [],
   "source": [
    "rand_auc = roc_auc_score(y_train_5, y_scores_rand)"
   ]
  },
  {
   "cell_type": "code",
   "execution_count": 87,
   "metadata": {
    "colab": {
     "base_uri": "https://localhost:8080/",
     "height": 33
    },
    "colab_type": "code",
    "executionInfo": {
     "elapsed": 912,
     "status": "ok",
     "timestamp": 1562392907308,
     "user": {
      "displayName": "leitstern ray",
      "photoUrl": "",
      "userId": "18220161813723689773"
     },
     "user_tz": -330
    },
    "id": "zgF6qLhq36xP",
    "outputId": "d317a6c4-eb74-4f93-a47b-7b172e4c21f3"
   },
   "outputs": [
    {
     "data": {
      "text/plain": [
       "0.9934235059812487"
      ]
     },
     "execution_count": 87,
     "metadata": {
      "tags": []
     },
     "output_type": "execute_result"
    }
   ],
   "source": [
    "rand_auc"
   ]
  },
  {
   "cell_type": "code",
   "execution_count": 0,
   "metadata": {
    "colab": {},
    "colab_type": "code",
    "id": "KG6PK1hl38pp"
   },
   "outputs": [],
   "source": []
  }
 ],
 "metadata": {
  "colab": {
   "name": "Classification.ipynb",
   "provenance": [],
   "version": "0.3.2"
  },
  "kernelspec": {
   "display_name": "Python 3",
   "language": "python",
   "name": "python3"
  },
  "language_info": {
   "codemirror_mode": {
    "name": "ipython",
    "version": 3
   },
   "file_extension": ".py",
   "mimetype": "text/x-python",
   "name": "python",
   "nbconvert_exporter": "python",
   "pygments_lexer": "ipython3",
   "version": "3.6.8"
  }
 },
 "nbformat": 4,
 "nbformat_minor": 1
}
