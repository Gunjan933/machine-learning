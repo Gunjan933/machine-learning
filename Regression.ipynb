{
 "cells": [
  {
   "cell_type": "code",
   "execution_count": 1,
   "metadata": {},
   "outputs": [],
   "source": [
    "import numpy as np\n",
    "import pandas as pd\n",
    "import matplotlib.pyplot as plt"
   ]
  },
  {
   "cell_type": "code",
   "execution_count": 2,
   "metadata": {},
   "outputs": [],
   "source": [
    "%matplotlib inline"
   ]
  },
  {
   "cell_type": "code",
   "execution_count": 3,
   "metadata": {},
   "outputs": [],
   "source": [
    "m,n =200,3"
   ]
  },
  {
   "cell_type": "code",
   "execution_count": 4,
   "metadata": {},
   "outputs": [
    {
     "data": {
      "text/html": [
       "<div>\n",
       "<style scoped>\n",
       "    .dataframe tbody tr th:only-of-type {\n",
       "        vertical-align: middle;\n",
       "    }\n",
       "\n",
       "    .dataframe tbody tr th {\n",
       "        vertical-align: top;\n",
       "    }\n",
       "\n",
       "    .dataframe thead th {\n",
       "        text-align: right;\n",
       "    }\n",
       "</style>\n",
       "<table border=\"1\" class=\"dataframe\">\n",
       "  <thead>\n",
       "    <tr style=\"text-align: right;\">\n",
       "      <th></th>\n",
       "      <th>TV</th>\n",
       "      <th>Radio</th>\n",
       "      <th>Newspaper</th>\n",
       "    </tr>\n",
       "  </thead>\n",
       "  <tbody>\n",
       "    <tr>\n",
       "      <th>0</th>\n",
       "      <td>181.28</td>\n",
       "      <td>131.86</td>\n",
       "      <td>157.21</td>\n",
       "    </tr>\n",
       "    <tr>\n",
       "      <th>1</th>\n",
       "      <td>115.33</td>\n",
       "      <td>106.53</td>\n",
       "      <td>112.79</td>\n",
       "    </tr>\n",
       "    <tr>\n",
       "      <th>2</th>\n",
       "      <td>151.48</td>\n",
       "      <td>144.17</td>\n",
       "      <td>111.86</td>\n",
       "    </tr>\n",
       "    <tr>\n",
       "      <th>3</th>\n",
       "      <td>137.47</td>\n",
       "      <td>115.17</td>\n",
       "      <td>157.36</td>\n",
       "    </tr>\n",
       "    <tr>\n",
       "      <th>4</th>\n",
       "      <td>125.18</td>\n",
       "      <td>103.14</td>\n",
       "      <td>135.64</td>\n",
       "    </tr>\n",
       "  </tbody>\n",
       "</table>\n",
       "</div>"
      ],
      "text/plain": [
       "       TV   Radio  Newspaper\n",
       "0  181.28  131.86     157.21\n",
       "1  115.33  106.53     112.79\n",
       "2  151.48  144.17     111.86\n",
       "3  137.47  115.17     157.36\n",
       "4  125.18  103.14     135.64"
      ]
     },
     "execution_count": 4,
     "metadata": {},
     "output_type": "execute_result"
    }
   ],
   "source": [
    "adv = (100+100*np.random.rand(m,n)).round(2)\n",
    "adv_df = pd.DataFrame(adv,columns=['TV','Radio','Newspaper'])\n",
    "adv_df.head()"
   ]
  },
  {
   "cell_type": "code",
   "execution_count": 43,
   "metadata": {
    "scrolled": true
   },
   "outputs": [
    {
     "ename": "ValueError",
     "evalue": "all the input array dimensions except for the concatenation axis must match exactly",
     "output_type": "error",
     "traceback": [
      "\u001b[1;31m---------------------------------------------------------------------------\u001b[0m",
      "\u001b[1;31mValueError\u001b[0m                                Traceback (most recent call last)",
      "\u001b[1;32m<ipython-input-43-9491f82dc620>\u001b[0m in \u001b[0;36m<module>\u001b[1;34m\u001b[0m\n\u001b[0;32m      1\u001b[0m \u001b[0msales\u001b[0m \u001b[1;33m=\u001b[0m \u001b[1;33m(\u001b[0m\u001b[1;36m1\u001b[0m \u001b[1;33m+\u001b[0m \u001b[1;36m2\u001b[0m\u001b[1;33m*\u001b[0m\u001b[0madv\u001b[0m\u001b[1;33m[\u001b[0m\u001b[1;33m:\u001b[0m\u001b[1;33m,\u001b[0m\u001b[1;36m0\u001b[0m\u001b[1;33m:\u001b[0m\u001b[1;36m1\u001b[0m\u001b[1;33m]\u001b[0m \u001b[1;33m+\u001b[0m \u001b[1;36m3\u001b[0m\u001b[1;33m*\u001b[0m\u001b[0madv\u001b[0m\u001b[1;33m[\u001b[0m\u001b[1;33m:\u001b[0m\u001b[1;33m,\u001b[0m\u001b[1;36m1\u001b[0m\u001b[1;33m:\u001b[0m\u001b[1;36m2\u001b[0m\u001b[1;33m]\u001b[0m \u001b[1;33m+\u001b[0m \u001b[1;36m4\u001b[0m\u001b[1;33m*\u001b[0m\u001b[0madv\u001b[0m\u001b[1;33m[\u001b[0m\u001b[1;33m:\u001b[0m\u001b[1;33m,\u001b[0m\u001b[1;36m2\u001b[0m\u001b[1;33m:\u001b[0m\u001b[1;36m3\u001b[0m\u001b[1;33m]\u001b[0m \u001b[1;33m+\u001b[0m \u001b[0mnp\u001b[0m\u001b[1;33m.\u001b[0m\u001b[0mrandom\u001b[0m\u001b[1;33m.\u001b[0m\u001b[0mrandn\u001b[0m\u001b[1;33m(\u001b[0m\u001b[0mm\u001b[0m\u001b[1;33m,\u001b[0m\u001b[1;36m1\u001b[0m\u001b[1;33m)\u001b[0m\u001b[1;33m)\u001b[0m\u001b[1;33m.\u001b[0m\u001b[0mround\u001b[0m\u001b[1;33m(\u001b[0m\u001b[1;36m2\u001b[0m\u001b[1;33m)\u001b[0m\u001b[1;33m\u001b[0m\u001b[1;33m\u001b[0m\u001b[0m\n\u001b[1;32m----> 2\u001b[1;33m \u001b[0mnp\u001b[0m\u001b[1;33m.\u001b[0m\u001b[0mconcatenate\u001b[0m\u001b[1;33m(\u001b[0m\u001b[1;33m(\u001b[0m\u001b[0madv\u001b[0m\u001b[1;33m,\u001b[0m\u001b[0msales\u001b[0m\u001b[1;33m)\u001b[0m\u001b[1;33m)\u001b[0m\u001b[1;33m\u001b[0m\u001b[1;33m\u001b[0m\u001b[0m\n\u001b[0m\u001b[0;32m      3\u001b[0m \u001b[0msales\u001b[0m\u001b[1;33m[\u001b[0m\u001b[1;33m:\u001b[0m\u001b[1;36m5\u001b[0m\u001b[1;33m]\u001b[0m\u001b[1;33m\u001b[0m\u001b[1;33m\u001b[0m\u001b[0m\n",
      "\u001b[1;31mValueError\u001b[0m: all the input array dimensions except for the concatenation axis must match exactly"
     ]
    }
   ],
   "source": [
    "sales = (1 + 2*adv[:,0:1] + 3*adv[:,1:2] + 4*adv[:,2:3] + np.random.randn(m,1)).round(2)\n",
    "# np.concatenate((adv,sales))\n",
    "sales[:5]"
   ]
  },
  {
   "cell_type": "code",
   "execution_count": 6,
   "metadata": {
    "scrolled": true
   },
   "outputs": [
    {
     "data": {
      "image/png": "[encoded data removed]",
      "text/plain": [
       "<Figure size 432x288 with 1 Axes>"
      ]
     },
     "metadata": {
      "needs_background": "light"
     },
     "output_type": "display_data"
    }
   ],
   "source": [
    "plt.plot(adv[:, 2:3], sales, 'b.')\n",
    "plt.xlabel('Newspaper')\n",
    "plt.ylabel('Sales')\n",
    "plt.show()"
   ]
  },
  {
   "cell_type": "code",
   "execution_count": 7,
   "metadata": {},
   "outputs": [
    {
     "data": {
      "text/plain": [
       "array([[181.28, 131.86, 157.21],\n",
       "       [115.33, 106.53, 112.79],\n",
       "       [151.48, 144.17, 111.86],\n",
       "       [137.47, 115.17, 157.36],\n",
       "       [125.18, 103.14, 135.64],\n",
       "       [133.81, 151.77, 142.72],\n",
       "       [180.32, 151.86, 171.93],\n",
       "       [146.37, 194.79, 112.24],\n",
       "       [164.79, 155.15, 119.65],\n",
       "       [158.26, 120.08, 131.77],\n",
       "       [141.78, 197.05, 195.98],\n",
       "       [156.72, 149.86, 177.7 ],\n",
       "       [187.7 , 130.14, 191.58],\n",
       "       [137.55, 131.66, 161.01],\n",
       "       [184.33, 133.75, 108.07],\n",
       "       [119.87, 102.3 , 132.47],\n",
       "       [102.37, 153.86, 151.93],\n",
       "       [102.4 , 162.51, 184.18],\n",
       "       [189.72, 180.93, 160.08],\n",
       "       [179.37, 137.33, 197.62],\n",
       "       [149.36, 180.49, 139.79],\n",
       "       [139.2 , 160.15, 148.23],\n",
       "       [111.49, 194.31, 175.5 ],\n",
       "       [173.7 , 108.04, 133.03],\n",
       "       [134.75, 136.94, 172.77],\n",
       "       [127.09, 125.52, 131.49],\n",
       "       [199.41, 123.84, 175.23],\n",
       "       [126.87, 167.83, 150.57],\n",
       "       [123.45, 110.15, 151.69],\n",
       "       [145.49, 142.33, 189.56],\n",
       "       [170.61, 138.7 , 152.53],\n",
       "       [198.02, 132.72, 154.52],\n",
       "       [183.82, 108.52, 152.71],\n",
       "       [171.53, 112.41, 189.17],\n",
       "       [118.57, 173.3 , 115.33],\n",
       "       [193.97, 102.87, 159.63],\n",
       "       [186.8 , 145.66, 143.24],\n",
       "       [111.35, 156.18, 196.45],\n",
       "       [198.86, 177.38, 139.33],\n",
       "       [123.92, 179.14, 135.58],\n",
       "       [186.67, 123.77, 197.8 ],\n",
       "       [193.46, 153.29, 126.81],\n",
       "       [156.15, 122.02, 104.59],\n",
       "       [107.59, 170.78, 119.41],\n",
       "       [146.7 , 172.53, 124.31],\n",
       "       [194.07, 189.46, 180.51],\n",
       "       [174.99, 187.43, 188.94],\n",
       "       [128.32, 165.73, 127.8 ],\n",
       "       [128.23, 153.49, 155.29],\n",
       "       [180.91, 141.5 , 134.47],\n",
       "       [151.29, 156.41, 187.75],\n",
       "       [187.34, 174.44, 173.38],\n",
       "       [100.44, 100.56, 112.05],\n",
       "       [119.19, 180.1 , 177.78],\n",
       "       [110.15, 119.55, 115.49],\n",
       "       [152.  , 186.83, 102.19],\n",
       "       [183.69, 142.88, 185.88],\n",
       "       [152.65, 150.62, 112.46],\n",
       "       [189.58, 184.85, 127.54],\n",
       "       [169.35, 130.71, 199.18],\n",
       "       [175.5 , 133.53, 147.23],\n",
       "       [101.81, 106.42, 100.98],\n",
       "       [114.57, 125.61, 100.9 ],\n",
       "       [112.44, 148.64, 133.31],\n",
       "       [155.63, 158.23, 159.51],\n",
       "       [188.22, 144.7 , 134.08],\n",
       "       [127.04, 120.31, 121.35],\n",
       "       [188.67, 196.29, 142.36],\n",
       "       [102.38, 190.45, 178.03],\n",
       "       [196.07, 148.79, 178.53],\n",
       "       [120.91, 126.34, 117.77],\n",
       "       [161.55, 157.59, 199.92],\n",
       "       [127.98, 149.21, 192.  ],\n",
       "       [192.97, 117.64, 133.68],\n",
       "       [135.47, 151.52, 111.66],\n",
       "       [108.5 , 143.44, 174.71],\n",
       "       [195.74, 120.78, 196.67],\n",
       "       [138.1 , 175.93, 158.69],\n",
       "       [139.43, 106.43, 155.8 ],\n",
       "       [186.69, 177.92, 134.46],\n",
       "       [139.37, 195.24, 136.34],\n",
       "       [139.78, 197.54, 103.39],\n",
       "       [121.43, 190.96, 192.18],\n",
       "       [164.08, 190.  , 172.49],\n",
       "       [166.28, 157.58, 180.36],\n",
       "       [133.94, 130.65, 113.29],\n",
       "       [175.26, 197.48, 162.49],\n",
       "       [167.73, 108.56, 161.22],\n",
       "       [142.56, 101.1 , 114.37],\n",
       "       [167.51, 110.12, 182.3 ],\n",
       "       [104.77, 100.71, 113.54],\n",
       "       [139.78, 151.8 , 109.03],\n",
       "       [166.57, 176.15, 192.94],\n",
       "       [118.58, 140.29, 153.51],\n",
       "       [113.  , 119.24, 100.54],\n",
       "       [147.64, 157.07, 176.61],\n",
       "       [146.71, 110.11, 143.17],\n",
       "       [174.99, 103.32, 101.89],\n",
       "       [175.32, 104.43, 195.27],\n",
       "       [111.25, 196.23, 170.65],\n",
       "       [113.9 , 105.03, 140.46],\n",
       "       [105.03, 162.07, 177.5 ],\n",
       "       [116.43, 188.56, 133.81],\n",
       "       [140.92, 123.43, 165.87],\n",
       "       [170.86, 130.52, 139.38],\n",
       "       [138.15, 196.94, 121.14],\n",
       "       [134.27, 135.21, 198.36],\n",
       "       [157.07, 160.08, 145.03],\n",
       "       [196.9 , 124.76, 117.65],\n",
       "       [118.67, 135.99, 126.49],\n",
       "       [189.81, 110.64, 182.45],\n",
       "       [112.63, 126.04, 186.62],\n",
       "       [136.16, 101.47, 162.65],\n",
       "       [174.19, 173.99, 190.18],\n",
       "       [168.03, 180.59, 151.4 ],\n",
       "       [131.22, 166.53, 157.9 ],\n",
       "       [131.24, 129.71, 111.28],\n",
       "       [143.81, 198.13, 146.57],\n",
       "       [199.9 , 112.33, 125.04],\n",
       "       [143.13, 133.89, 100.42],\n",
       "       [137.77, 156.08, 182.55],\n",
       "       [198.87, 156.87, 117.04],\n",
       "       [188.79, 177.81, 154.85],\n",
       "       [116.86, 126.2 , 126.91],\n",
       "       [126.78, 142.25, 135.7 ],\n",
       "       [161.31, 189.45, 154.68],\n",
       "       [190.09, 170.46, 189.67],\n",
       "       [149.47, 183.06, 116.82],\n",
       "       [137.8 , 180.49, 187.77],\n",
       "       [108.21, 169.36, 147.9 ],\n",
       "       [187.53, 197.76, 181.03],\n",
       "       [198.63, 148.21, 108.51],\n",
       "       [168.83, 119.14, 182.18],\n",
       "       [124.23, 168.35, 180.32],\n",
       "       [196.53, 133.79, 132.25],\n",
       "       [156.66, 148.92, 170.45],\n",
       "       [129.42, 184.21, 170.59],\n",
       "       [160.35, 189.53, 151.6 ],\n",
       "       [165.63, 120.44, 164.61],\n",
       "       [185.32, 195.97, 138.94],\n",
       "       [182.02, 102.08, 107.26],\n",
       "       [169.78, 108.2 , 193.22],\n",
       "       [171.8 , 105.19, 117.71],\n",
       "       [188.06, 124.36, 160.86],\n",
       "       [145.19, 168.56, 176.06],\n",
       "       [162.25, 164.25, 169.09],\n",
       "       [168.95, 154.  , 172.18],\n",
       "       [119.17, 146.29, 107.12],\n",
       "       [187.5 , 124.59, 114.05],\n",
       "       [175.61, 194.18, 192.29],\n",
       "       [117.77, 149.6 , 161.3 ],\n",
       "       [109.83, 194.67, 164.9 ],\n",
       "       [151.81, 165.04, 195.63],\n",
       "       [148.09, 144.12, 114.51],\n",
       "       [116.41, 163.85, 150.31],\n",
       "       [126.61, 112.58, 180.75],\n",
       "       [186.55, 182.92, 159.08],\n",
       "       [164.78, 184.67, 160.15],\n",
       "       [101.95, 192.25, 140.77],\n",
       "       [131.1 , 195.56, 105.24],\n",
       "       [175.49, 188.61, 103.06],\n",
       "       [156.99, 180.39, 176.07],\n",
       "       [160.85, 146.49, 178.7 ],\n",
       "       [156.41, 192.53, 164.64],\n",
       "       [104.19, 112.59, 135.73],\n",
       "       [159.58, 183.59, 185.41],\n",
       "       [178.73, 158.65, 102.52],\n",
       "       [148.46, 189.49, 144.51],\n",
       "       [129.87, 167.83, 109.24],\n",
       "       [100.79, 157.42, 123.76],\n",
       "       [193.5 , 197.13, 110.01],\n",
       "       [127.7 , 177.65, 192.28],\n",
       "       [189.16, 118.19, 135.65],\n",
       "       [104.32, 147.62, 149.5 ],\n",
       "       [129.59, 163.33, 177.9 ],\n",
       "       [137.01, 173.11, 145.02],\n",
       "       [173.51, 114.93, 152.09],\n",
       "       [108.58, 141.03, 161.75],\n",
       "       [160.15, 127.82, 193.68],\n",
       "       [123.  , 161.21, 144.82],\n",
       "       [102.39, 154.31, 124.93],\n",
       "       [183.24, 117.35, 105.62],\n",
       "       [124.03, 190.74, 142.58],\n",
       "       [138.35, 186.91, 157.92],\n",
       "       [106.74, 106.03, 170.35],\n",
       "       [107.08, 156.22, 108.05],\n",
       "       [156.5 , 127.48, 180.75],\n",
       "       [124.37, 176.65, 146.31],\n",
       "       [106.93, 174.9 , 130.16],\n",
       "       [183.39, 190.41, 182.66],\n",
       "       [151.31, 195.63, 160.9 ],\n",
       "       [164.77, 181.19, 188.68],\n",
       "       [159.59, 139.94, 168.62],\n",
       "       [151.12, 145.7 , 142.01],\n",
       "       [181.8 , 130.4 , 106.02],\n",
       "       [147.46, 113.47, 136.06],\n",
       "       [104.55, 133.82, 162.15],\n",
       "       [121.86, 173.42, 195.9 ],\n",
       "       [159.75, 103.08, 157.24],\n",
       "       [192.64, 151.27, 130.78]])"
      ]
     },
     "execution_count": 7,
     "metadata": {},
     "output_type": "execute_result"
    }
   ],
   "source": [
    "adv"
   ]
  },
  {
   "cell_type": "code",
   "execution_count": 29,
   "metadata": {},
   "outputs": [
    {
     "data": {
      "text/plain": [
       "array([[  1.  , 181.28, 131.86, 157.21],\n",
       "       [  1.  , 115.33, 106.53, 112.79],\n",
       "       [  1.  , 151.48, 144.17, 111.86],\n",
       "       [  1.  , 137.47, 115.17, 157.36],\n",
       "       [  1.  , 125.18, 103.14, 135.64]])"
      ]
     },
     "execution_count": 29,
     "metadata": {},
     "output_type": "execute_result"
    }
   ],
   "source": [
    "X = np.c_[np.ones((m,1)),adv]\n",
    "X[:5]"
   ]
  },
  {
   "cell_type": "code",
   "execution_count": 22,
   "metadata": {},
   "outputs": [
    {
     "data": {
      "text/plain": [
       "(200, 1)"
      ]
     },
     "execution_count": 22,
     "metadata": {},
     "output_type": "execute_result"
    }
   ],
   "source": [
    "sales.shape"
   ]
  },
  {
   "cell_type": "code",
   "execution_count": 23,
   "metadata": {},
   "outputs": [],
   "source": [
    "y = sales"
   ]
  },
  {
   "cell_type": "code",
   "execution_count": 27,
   "metadata": {
    "scrolled": true
   },
   "outputs": [
    {
     "data": {
      "text/plain": [
       "array([[1.36825872],\n",
       "       [1.99718609],\n",
       "       [3.00380749],\n",
       "       [3.9968533 ]])"
      ]
     },
     "execution_count": 27,
     "metadata": {},
     "output_type": "execute_result"
    }
   ],
   "source": [
    "theta_hat = (np.linalg.inv(X.T.dot(X))).dot(X.T.dot(y))\n",
    "theta_hat"
   ]
  },
  {
   "cell_type": "markdown",
   "metadata": {},
   "source": [
    "## Predicted value"
   ]
  },
  {
   "cell_type": "code",
   "execution_count": 38,
   "metadata": {},
   "outputs": [
    {
     "data": {
      "text/plain": [
       "array([1105.73567054])"
      ]
     },
     "execution_count": 38,
     "metadata": {},
     "output_type": "execute_result"
    }
   ],
   "source": [
    "example = X[100].dot(theta_hat)\n",
    "example"
   ]
  },
  {
   "cell_type": "markdown",
   "metadata": {},
   "source": [
    "## Actual value"
   ]
  },
  {
   "cell_type": "code",
   "execution_count": 37,
   "metadata": {
    "scrolled": true
   },
   "outputs": [
    {
     "data": {
      "text/plain": [
       "array([1105.31])"
      ]
     },
     "execution_count": 37,
     "metadata": {},
     "output_type": "execute_result"
    }
   ],
   "source": [
    "sales[100]"
   ]
  },
  {
   "cell_type": "code",
   "execution_count": 45,
   "metadata": {},
   "outputs": [
    {
     "data": {
      "text/plain": [
       "LinearRegression(copy_X=True, fit_intercept=True, n_jobs=None,\n",
       "         normalize=False)"
      ]
     },
     "execution_count": 45,
     "metadata": {},
     "output_type": "execute_result"
    }
   ],
   "source": [
    "from sklearn.linear_model import LinearRegression\n",
    "lin_reg = LinearRegression()\n",
    "lin_reg.fit(adv,y)"
   ]
  },
  {
   "cell_type": "code",
   "execution_count": 46,
   "metadata": {},
   "outputs": [
    {
     "data": {
      "text/plain": [
       "array([[1.99718609, 3.00380749, 3.9968533 ]])"
      ]
     },
     "execution_count": 46,
     "metadata": {},
     "output_type": "execute_result"
    }
   ],
   "source": [
    "lin_reg.coef_"
   ]
  },
  {
   "cell_type": "code",
   "execution_count": 48,
   "metadata": {},
   "outputs": [
    {
     "data": {
      "text/plain": [
       "array([1.36825872])"
      ]
     },
     "execution_count": 48,
     "metadata": {},
     "output_type": "execute_result"
    }
   ],
   "source": [
    "lin_reg.intercept_"
   ]
  },
  {
   "cell_type": "code",
   "execution_count": 49,
   "metadata": {},
   "outputs": [
    {
     "data": {
      "text/plain": [
       "array([[1105.73567054]])"
      ]
     },
     "execution_count": 49,
     "metadata": {},
     "output_type": "execute_result"
    }
   ],
   "source": [
    "lin_reg.predict([adv[100]])"
   ]
  }
 ],
 "metadata": {
  "kernelspec": {
   "display_name": "Python 3",
   "language": "python",
   "name": "python3"
  },
  "language_info": {
   "codemirror_mode": {
    "name": "ipython",
    "version": 3
   },
   "file_extension": ".py",
   "mimetype": "text/x-python",
   "name": "python",
   "nbconvert_exporter": "python",
   "pygments_lexer": "ipython3",
   "version": "3.7.3"
  }
 },
 "nbformat": 4,
 "nbformat_minor": 2
}
