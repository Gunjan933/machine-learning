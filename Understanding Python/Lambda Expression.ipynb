{
 "cells": [
  {
   "cell_type": "code",
   "execution_count": 7,
   "metadata": {},
   "outputs": [
    {
     "name": "stdout",
     "output_type": "stream",
     "text": [
      "12\n",
      "20\n"
     ]
    }
   ],
   "source": [
    "abs=lambda x: x if x>=0 else -x\n",
    "abs.x=12\n",
    "x=-20\n",
    "print(abs.x)\n",
    "print(abs(x))"
   ]
  },
  {
   "cell_type": "code",
   "execution_count": 16,
   "metadata": {},
   "outputs": [
    {
     "name": "stdout",
     "output_type": "stream",
     "text": [
      "pro Suvo\n"
     ]
    }
   ],
   "source": [
    "string=\"Suprovo\"\n",
    "print(string.split(\"u\")[1].split(\"vo\")[0],string.split(\"p\")[0]+string.split(\"ro\")[1])"
   ]
  },
  {
   "cell_type": "code",
   "execution_count": 20,
   "metadata": {},
   "outputs": [
    {
     "name": "stdout",
     "output_type": "stream",
     "text": [
      "[10, 20, 90, 100, 120, 150, 190]\n"
     ]
    }
   ],
   "source": [
    "lista=[100,90,10,20,150,190,120]\n",
    "lista.sort()\n",
    "print(lista)"
   ]
  },
  {
   "cell_type": "code",
   "execution_count": 31,
   "metadata": {},
   "outputs": [
    {
     "data": {
      "text/plain": [
       "('deb', 25, 30000)"
      ]
     },
     "execution_count": 31,
     "metadata": {},
     "output_type": "execute_result"
    }
   ],
   "source": [
    "def maax(emps):\n",
    "    lista=[]\n",
    "    for i in range(0,len(emps)):\n",
    "        lista.append(emps[i][2])\n",
    "    temp=max(lista)\n",
    "    for i in range(0,len(emps)):\n",
    "        if temp==emps[i][2]:\n",
    "            return emps[i]\n",
    "    \n",
    "emps=[('ram',18,23000),('modhu',20,21000),('deb',25,30000),('jit',23,25000)]\n",
    "maax(emps)"
   ]
  }
 ],
 "metadata": {
  "kernelspec": {
   "display_name": "Python 3",
   "language": "python",
   "name": "python3"
  },
  "language_info": {
   "codemirror_mode": {
    "name": "ipython",
    "version": 3
   },
   "file_extension": ".py",
   "mimetype": "text/x-python",
   "name": "python",
   "nbconvert_exporter": "python",
   "pygments_lexer": "ipython3",
   "version": "3.7.3"
  }
 },
 "nbformat": 4,
 "nbformat_minor": 2
}
