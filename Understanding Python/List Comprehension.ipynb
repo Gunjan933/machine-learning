{
 "cells": [
  {
   "cell_type": "markdown",
   "metadata": {},
   "source": [
    "## Find all file and subdirectory under current directory "
   ]
  },
  {
   "cell_type": "code",
   "execution_count": 24,
   "metadata": {},
   "outputs": [
    {
     "data": {
      "text/plain": [
       "['.git',\n",
       " '.ipynb_checkpoints',\n",
       " 'Decorators.ipynb',\n",
       " 'dw.ipynb',\n",
       " 'Lambda Expression.ipynb',\n",
       " 'LICENSE',\n",
       " 'List Comprehension.ipynb',\n",
       " 'Python3.ipynb',\n",
       " 'README.md',\n",
       " 'syllabus.md']"
      ]
     },
     "execution_count": 24,
     "metadata": {},
     "output_type": "execute_result"
    }
   ],
   "source": [
    "import os\n",
    "import os.path\n",
    "os.listdir('.')"
   ]
  },
  {
   "cell_type": "markdown",
   "metadata": {},
   "source": [
    "## Find the file names without extension"
   ]
  },
  {
   "cell_type": "code",
   "execution_count": 51,
   "metadata": {},
   "outputs": [
    {
     "data": {
      "text/plain": [
       "['Decorators',\n",
       " 'dw',\n",
       " 'Lambda Expression',\n",
       " 'LICENS',\n",
       " 'List Comprehension',\n",
       " 'Python3',\n",
       " 'README',\n",
       " 'syllabus']"
      ]
     },
     "execution_count": 51,
     "metadata": {},
     "output_type": "execute_result"
    }
   ],
   "source": [
    "[x [:x.rfind('.')]  for x in os.listdir('.') if os.path.isfile(x)]"
   ]
  },
  {
   "cell_type": "markdown",
   "metadata": {},
   "source": [
    "## Find matching in list comprehension"
   ]
  },
  {
   "cell_type": "code",
   "execution_count": 44,
   "metadata": {
    "scrolled": true
   },
   "outputs": [
    {
     "name": "stdout",
     "output_type": "stream",
     "text": [
      "[12, 5, 7, 13, 6, 9]\n"
     ]
    }
   ],
   "source": [
    "a = [[12,5,7],[13,6,9]]\n",
    "b = [[12,13],[5,6],[7,9]]\n",
    "c = [y for x in a for y in x for p in b for q in p if y==q]\n",
    "print(c)"
   ]
  },
  {
   "cell_type": "markdown",
   "metadata": {},
   "source": [
    "## Finding transpose"
   ]
  },
  {
   "cell_type": "code",
   "execution_count": 65,
   "metadata": {},
   "outputs": [
    {
     "name": "stdout",
     "output_type": "stream",
     "text": [
      "[[12, 13], [5, 6], [7, 9]]\n"
     ]
    }
   ],
   "source": [
    "a = [[12,5,7],[13,6,9]]\n",
    "b = [[12,13],[5,6],[7,9]]\n",
    "c = [[x[i] for x in a] for i in range (len(a[0]))]\n",
    "print(c)"
   ]
  }
 ],
 "metadata": {
  "kernelspec": {
   "display_name": "Python 3",
   "language": "python",
   "name": "python3"
  },
  "language_info": {
   "codemirror_mode": {
    "name": "ipython",
    "version": 3
   },
   "file_extension": ".py",
   "mimetype": "text/x-python",
   "name": "python",
   "nbconvert_exporter": "python",
   "pygments_lexer": "ipython3",
   "version": "3.7.3"
  }
 },
 "nbformat": 4,
 "nbformat_minor": 2
}
