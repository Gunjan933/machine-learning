{
 "cells": [
  {
   "cell_type": "code",
   "execution_count": 43,
   "metadata": {},
   "outputs": [],
   "source": [
    "class Node:\n",
    "    def __init__(self, item = None, next = None):\n",
    "        self.item = item\n",
    "        self.next = next\n",
    "    def __str__(self):\n",
    "        return self.item"
   ]
  },
  {
   "cell_type": "code",
   "execution_count": 44,
   "metadata": {},
   "outputs": [],
   "source": [
    "class Stack:\n",
    "    def __init__(self):\n",
    "        self.top = None\n",
    "    def push (self, item):\n",
    "        node = Node(item)\n",
    "        node.next = self.top\n",
    "        self.top = node\n",
    "    def multipush (self, *item):\n",
    "        for i in item:\n",
    "            self.push(i)\n",
    "    def pop (self):\n",
    "        if self.top == None:\n",
    "            raise Exception('Stack underflow')\n",
    "        item = self.top.item\n",
    "        self.top = self.top.next\n",
    "        return item\n",
    "    def peep(self):\n",
    "        if self.top == None:\n",
    "            raise Exception('Stack underflow')\n",
    "        return self.top.item\n",
    "    def empty(self):\n",
    "        return self.top == None\n",
    "    def __iter__(self):\n",
    "        return self\n",
    "    def __next__ (self):\n",
    "        if self.top == Nonw:\n",
    "            raise StopIteration\n",
    "        return self.pop()\n",
    "        "
   ]
  },
  {
   "cell_type": "code",
   "execution_count": 45,
   "metadata": {},
   "outputs": [],
   "source": [
    "s = Stack()"
   ]
  },
  {
   "cell_type": "code",
   "execution_count": 46,
   "metadata": {},
   "outputs": [],
   "source": [
    "s.multipush(12,5,7,13,6)"
   ]
  },
  {
   "cell_type": "code",
   "execution_count": 47,
   "metadata": {},
   "outputs": [
    {
     "name": "stdout",
     "output_type": "stream",
     "text": [
      "6\n",
      "13\n",
      "7\n",
      "5\n",
      "12\n"
     ]
    }
   ],
   "source": [
    "while not s.empty():\n",
    "    print(s.pop())"
   ]
  }
 ],
 "metadata": {
  "kernelspec": {
   "display_name": "Python 3",
   "language": "python",
   "name": "python3"
  },
  "language_info": {
   "codemirror_mode": {
    "name": "ipython",
    "version": 3
   },
   "file_extension": ".py",
   "mimetype": "text/x-python",
   "name": "python",
   "nbconvert_exporter": "python",
   "pygments_lexer": "ipython3",
   "version": "3.7.3"
  }
 },
 "nbformat": 4,
 "nbformat_minor": 2
}
